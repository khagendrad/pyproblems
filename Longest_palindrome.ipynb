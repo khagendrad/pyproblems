{
 "cells": [
  {
   "cell_type": "markdown",
   "metadata": {},
   "source": [
    "## longest palindromic substring\n",
    "Given a string s, return the longest palindromic substring in s.\n",
    "\n",
    " \n",
    "\n",
    "Example 1:\n",
    "\n",
    "Input: s = \"babad\"\n",
    "Output: \"bab\"\n",
    "Explanation: \"aba\" is also a valid answer.\n",
    "Example 2:\n",
    "\n",
    "Input: s = \"cbbd\"\n",
    "Output: \"bb\""
   ]
  },
  {
   "cell_type": "code",
   "execution_count": 8,
   "metadata": {},
   "outputs": [
    {
     "data": {
      "text/plain": [
       "'123454321'"
      ]
     },
     "execution_count": 8,
     "metadata": {},
     "output_type": "execute_result"
    }
   ],
   "source": [
    "class Solution:\n",
    "    def longest_polindromic(self, s:str)->str:\n",
    "        res = ''\n",
    "        reslen = 0\n",
    "\n",
    "        for i in range(len(s)):\n",
    "            l, r = i, i \n",
    "            while l>= 0 and r<len(s) and s[l]==s[r]:\n",
    "                if(r-l+1)>reslen:\n",
    "                    res=s[l:r+1]\n",
    "                    reslen =r-l+1\n",
    "                l -=1\n",
    "                r+=1\n",
    "            l,r = i, i+1\n",
    "            while l>=0 and r<len(s) and s[l]==s[r]:\n",
    "                if (r-l+1)>reslen:\n",
    "                    res = s[l:r+1]\n",
    "                    reslen = r-l+1\n",
    "                l-=1\n",
    "                r+=1\n",
    "        return res\n",
    "lp = Solution()\n",
    "lp.longest_polindromic(\"123454321123\")"
   ]
  }
 ],
 "metadata": {
  "kernelspec": {
   "display_name": "Python 3.10.5 64-bit",
   "language": "python",
   "name": "python3"
  },
  "language_info": {
   "codemirror_mode": {
    "name": "ipython",
    "version": 3
   },
   "file_extension": ".py",
   "mimetype": "text/x-python",
   "name": "python",
   "nbconvert_exporter": "python",
   "pygments_lexer": "ipython3",
   "version": "3.10.5"
  },
  "orig_nbformat": 4,
  "vscode": {
   "interpreter": {
    "hash": "916dbcbb3f70747c44a77c7bcd40155683ae19c65e1c03b4aa3499c5328201f1"
   }
  }
 },
 "nbformat": 4,
 "nbformat_minor": 2
}
