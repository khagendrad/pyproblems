{
 "cells": [
  {
   "cell_type": "markdown",
   "metadata": {},
   "source": [
    "#### Question1:\n",
    "Write a program which will find all such numbers which are divisible by 7 but are not a multiple of 5,\n",
    "between 2000 and 3200 (both included).\n",
    "The numbers obtained should be printed in a comma-separated sequence on a single line.\n"
   ]
  },
  {
   "cell_type": "code",
   "execution_count": 3,
   "metadata": {},
   "outputs": [
    {
     "name": "stdout",
     "output_type": "stream",
     "text": [
      "[2002, 2009, 2016, 2023, 2037, 2044, 2051, 2058, 2072, 2079, 2086, 2093, 2107, 2114, 2121, 2128, 2142, 2149, 2156, 2163, 2177, 2184, 2191, 2198, 2212, 2219, 2226, 2233, 2247, 2254, 2261, 2268, 2282, 2289, 2296, 2303, 2317, 2324, 2331, 2338, 2352, 2359, 2366, 2373, 2387, 2394, 2401, 2408, 2422, 2429, 2436, 2443, 2457, 2464, 2471, 2478, 2492, 2499, 2506, 2513, 2527, 2534, 2541, 2548, 2562, 2569, 2576, 2583, 2597, 2604, 2611, 2618, 2632, 2639, 2646, 2653, 2667, 2674, 2681, 2688, 2702, 2709, 2716, 2723, 2737, 2744, 2751, 2758, 2772, 2779, 2786, 2793, 2807, 2814, 2821, 2828, 2842, 2849, 2856, 2863, 2877, 2884, 2891, 2898, 2912, 2919, 2926, 2933, 2947, 2954, 2961, 2968, 2982, 2989, 2996, 3003, 3017, 3024, 3031, 3038, 3052, 3059, 3066, 3073, 3087, 3094, 3101, 3108, 3122, 3129, 3136, 3143, 3157, 3164, 3171, 3178, 3192, 3199]\n"
     ]
    }
   ],
   "source": [
    "numbers = []\n",
    "for num in range(1999, 3200):\n",
    "    if num%7==0 and num%5!=0:\n",
    "        numbers.append(num)\n",
    "print(numbers)\n"
   ]
  },
  {
   "cell_type": "markdown",
   "metadata": {},
   "source": [
    "### Question2:\n",
    "Write a program which can compute the factorial of a given numbers.\n",
    "The results should be printed in a comma-separated sequence on a single line.\n",
    "Suppose the following input is supplied to the program:\n",
    "8\n",
    "Then, the output should be:\n",
    "40320"
   ]
  },
  {
   "cell_type": "code",
   "execution_count": 9,
   "metadata": {},
   "outputs": [
    {
     "name": "stdout",
     "output_type": "stream",
     "text": [
      "[2, 6, 24, 120, 720, 5040, 40320]\n"
     ]
    }
   ],
   "source": [
    "n = [2,3,4,5,6,7,8]\n",
    "results = []\n",
    "fact = 1\n",
    "for indi in n:\n",
    "    while indi>1:\n",
    "        fact *=indi \n",
    "        indi-=1\n",
    "    results.append(fact)\n",
    "    fact=1\n",
    "print(results)\n"
   ]
  },
  {
   "cell_type": "markdown",
   "metadata": {},
   "source": [
    "## <center> or </center>"
   ]
  },
  {
   "cell_type": "code",
   "execution_count": 13,
   "metadata": {},
   "outputs": [
    {
     "name": "stdout",
     "output_type": "stream",
     "text": [
      "[2, 6, 24, 120, 720, 5040, 40320]\n"
     ]
    }
   ],
   "source": [
    "def facto(x):\n",
    "    if x ==0:\n",
    "        return 1 \n",
    "    return x*facto(x-1)\n",
    "result=[]\n",
    "\n",
    "for x in n:\n",
    "    result.append(facto(x))\n",
    "print(result)"
   ]
  },
  {
   "cell_type": "markdown",
   "metadata": {},
   "source": [
    "### Question3:\n",
    "With a given integral number n, write a program to generate a dictionary that contains (i, i*i) such that is an integral number between 1 and n (both included). and then the program should print the dictionary.\n",
    "Suppose the following input is supplied to the program:\n",
    "8\n",
    "Then, the output should be:\n",
    "{1: 1, 2: 4, 3: 9, 4: 16, 5: 25, 6: 36, 7: 49, 8: 64}"
   ]
  },
  {
   "cell_type": "code",
   "execution_count": 16,
   "metadata": {},
   "outputs": [
    {
     "name": "stdout",
     "output_type": "stream",
     "text": [
      "{1: 1, 2: 4, 3: 9, 4: 16, 5: 25, 6: 36, 7: 49, 8: 64, 9: 81}\n"
     ]
    }
   ],
   "source": [
    "results1 = {}\n",
    "n1=10\n",
    "for integral in range(1,n1):\n",
    "    results1[integral]=integral*integral\n",
    "print(results1)"
   ]
  },
  {
   "cell_type": "markdown",
   "metadata": {},
   "source": [
    "### Question4:\n",
    "Write a program which accepts a sequence of comma-separated numbers from console and generate a list and a tuple which contains every number.\n",
    "Suppose the following input is supplied to the program:\n",
    "34,67,55,33,12,98\n",
    "Then, the output should be:\n",
    "['34', '67', '55', '33', '12', '98']\n",
    "('34', '67', '55', '33', '12', '98')"
   ]
  },
  {
   "cell_type": "code",
   "execution_count": 19,
   "metadata": {},
   "outputs": [
    {
     "name": "stdout",
     "output_type": "stream",
     "text": [
      "['2', '3', '4', '5', '6', '7', '8']\n",
      "('2', '3', '4', '5', '6', '7', '8')\n"
     ]
    }
   ],
   "source": [
    "# seq= input(\"enter comma seperated sequence of numbers\")\n",
    "seq = 2,3,4,5,6,7,8\n",
    "seq_list = []\n",
    "seq_tup = ()\n",
    "for el in seq:\n",
    "    seq_list.append(str(el))\n",
    "    seq_tup = tuple(seq_list)\n",
    "\n",
    "print(seq_list)\n",
    "print(seq_tup)"
   ]
  },
  {
   "cell_type": "markdown",
   "metadata": {},
   "source": [
    "### Question5:\n",
    "Define a class which has at least two methods:\n",
    "getString: to get a string from console input\n",
    "printString: to print the string in upper case.\n",
    "Also please include simple test function to test the class methods.\n",
    "\n",
    "Hints:\n",
    "Use <code> __init__ </code> method to construct some parameters"
   ]
  },
  {
   "cell_type": "code",
   "execution_count": 23,
   "metadata": {},
   "outputs": [
    {
     "data": {
      "text/plain": [
       "'ALL LETTERS ARE INPUTED IN LOWERCASE.'"
      ]
     },
     "execution_count": 23,
     "metadata": {},
     "output_type": "execute_result"
    }
   ],
   "source": [
    "class get_print():\n",
    "    def __init__(self):\n",
    "        self.anystr = ''\n",
    "    \n",
    "    def get_str(self):\n",
    "        self.s = input(\"enter any string\")\n",
    "        \n",
    "    def put_str(self):\n",
    "        return self.s.upper()\n",
    "\n",
    "obj = get_print()\n",
    "obj.get_str()\n",
    "obj.put_str()"
   ]
  },
  {
   "cell_type": "code",
   "execution_count": null,
   "metadata": {},
   "outputs": [],
   "source": []
  },
  {
   "cell_type": "markdown",
   "metadata": {},
   "source": [
    "## Question6:\n",
    "Write a program that calculates and prints the value according to the given formula:\n",
    "Q = Square root of [(2 * C * D)/H]\n",
    "Following are the fixed values of C and H:\n",
    "C is 50. H is 30.\n",
    "D is the variable whose values should be input to your program in a comma-separated sequence.\n",
    "Example\n",
    "Let us assume the following comma separated input sequence is given to the program:\n",
    "100,150,180\n",
    "The output of the program should be:\n",
    "18,22,24"
   ]
  },
  {
   "cell_type": "code",
   "execution_count": 25,
   "metadata": {},
   "outputs": [
    {
     "name": "stdout",
     "output_type": "stream",
     "text": [
      "[18, 22, 24]\n"
     ]
    }
   ],
   "source": [
    "import math\n",
    "values_of_D = [100, 150, 180]\n",
    "C,H=50,30\n",
    "final_result=[]\n",
    "for D in values_of_D:\n",
    "    Q = 2*C*D/H\n",
    "    sqrt = math.sqrt(Q)\n",
    "    final_result.append(math.trunc(sqrt))\n",
    "print(final_result)\n"
   ]
  },
  {
   "cell_type": "markdown",
   "metadata": {},
   "source": [
    "### Question7:\n",
    "Write a program which takes 2 digits, X,Y as input and generates a 2-dimensional array. The element value in the i-th row and j-th column of the array should be i*j.\n",
    "Note: i=0,1.., X-1; j=0,1,¡­Y-1.\n",
    "Example\n",
    "Suppose the following inputs are given to the program:\n",
    "3,5\n",
    "Then, the output of the program should be:\n",
    "[[0, 0, 0, 0, 0], [0, 1, 2, 3, 4], [0, 2, 4, 6, 8]] "
   ]
  },
  {
   "cell_type": "code",
   "execution_count": null,
   "metadata": {},
   "outputs": [],
   "source": [
    "row = int(input('enter no. of rows'))\n",
    "col = int(input(\"enter no. of columns\"))\n",
    "r=[]\n",
    "\n",
    "\n",
    "for i in range(row):\n",
    "    y=[]# once the item is added list need to be empty to refill again. so this list can't be defined global.\n",
    "    for j in range(col):\n",
    "        n = int(input(\"enter item\"))\n",
    "        y.append(n)\n",
    "    r.append(y)"
   ]
  },
  {
   "cell_type": "markdown",
   "metadata": {},
   "source": [
    "### Question8:\n",
    "Write a program that accepts a comma separated sequence of words as input and prints the words in a comma-separated sequence after sorting them alphabetically.\n",
    "Suppose the following input is supplied to the program:\n",
    "without,hello,bag,world\n",
    "Then, the output should be:\n",
    "bag,hello,without,world"
   ]
  },
  {
   "cell_type": "code",
   "execution_count": 5,
   "metadata": {},
   "outputs": [
    {
     "name": "stdout",
     "output_type": "stream",
     "text": [
      "['globalime', 'kumari', 'mega', 'nabil', 'nica', 'sanima']\n"
     ]
    }
   ],
   "source": [
    "words = ['kumari','mega','sanima','nabil','nica','globalime']\n",
    "words.sort()\n",
    "print(words)"
   ]
  },
  {
   "cell_type": "markdown",
   "metadata": {},
   "source": [
    "### Question9\n",
    "Write a program that accepts sequence of lines as input and prints the lines after making all characters in the sentence capitalized.\n",
    "Suppose the following input is supplied to the program:\n",
    "Hello world\n",
    "Practice makes perfect\n",
    "Then, the output should be:\n",
    "HELLO WORLD\n",
    "PRACTICE MAKES PERFECT"
   ]
  },
  {
   "cell_type": "code",
   "execution_count": 7,
   "metadata": {},
   "outputs": [
    {
     "name": "stdout",
     "output_type": "stream",
     "text": [
      "THIS IS PYTHON PRACTICE.\n"
     ]
    }
   ],
   "source": [
    "given_word = 'This is python practice.'\n",
    "gw  = given_word.upper()\n",
    "print(gw)"
   ]
  },
  {
   "cell_type": "markdown",
   "metadata": {},
   "source": [
    "### Question10:\n",
    "Write a program that accepts a sequence of whitespace separated words as input and prints the words after removing all duplicate words and sorting them alphanumerically.\n",
    "Suppose the following input is supplied to the program:\n",
    "hello world and practice makes perfect and hello world again\n",
    "Then, the output should be:\n",
    "again and hello makes perfect practice world"
   ]
  },
  {
   "cell_type": "code",
   "execution_count": 33,
   "metadata": {},
   "outputs": [
    {
     "name": "stdout",
     "output_type": "stream",
     "text": [
      "['code', 'is', 'python', 'this']\n"
     ]
    }
   ],
   "source": [
    "given_input = 'this is python code this is python code'\n",
    "given_w = given_input.split()\n",
    "output_w = []\n",
    "for wd in given_w:\n",
    "    if wd not in output_w:\n",
    "        output_w.append(wd)\n",
    "output_w.sort()\n",
    "print(output_w)\n"
   ]
  },
  {
   "cell_type": "markdown",
   "metadata": {},
   "source": [
    "### Question11:\n",
    "Write a program which accepts a sequence of comma separated 4 digit binary numbers as its input and then check whether they are divisible by 5 or not. The numbers that are divisible by 5 are to be printed in a comma separated sequence.\n",
    "Example:\n",
    "0100,0011,1010,1001\n",
    "Then the output should be:\n",
    "1010\n",
    "Notes: Assume the data is input by console."
   ]
  },
  {
   "cell_type": "code",
   "execution_count": 40,
   "metadata": {},
   "outputs": [
    {
     "name": "stdout",
     "output_type": "stream",
     "text": [
      "[10, 15]\n"
     ]
    }
   ],
   "source": [
    "tuple_bin = (1010,100,1111,11111,101010101)\n",
    "output = []\n",
    "for given_bin in tuple_bin:\n",
    "    str_bin = str(given_bin)\n",
    "    str_bin = str_bin[::-1]\n",
    "    result = 0\n",
    "    i = 0\n",
    "    for el in str_bin:\n",
    "        result+= int(el)*(2**i)\n",
    "        i+=1\n",
    "    if result%5==0:\n",
    "        output.append(result)\n",
    "print(output)\n",
    "    "
   ]
  },
  {
   "cell_type": "code",
   "execution_count": 1,
   "metadata": {},
   "outputs": [
    {
     "name": "stdout",
     "output_type": "stream",
     "text": [
      "11\n"
     ]
    },
    {
     "data": {
      "text/plain": [
       "str"
      ]
     },
     "execution_count": 1,
     "metadata": {},
     "output_type": "execute_result"
    }
   ],
   "source": [
    "p='1011'\n",
    "intp = int(p,2)\n",
    "print(intp)\n",
    "type(p)"
   ]
  },
  {
   "cell_type": "markdown",
   "metadata": {},
   "source": [
    "### Question12:\n",
    "Write a program, which will find all such numbers between 1000 and 3000 (both included) such that each digit of the number is an even number.\n",
    "The numbers obtained should be printed in a comma-separated sequence on a single line.\n",
    "\n",
    "Hints:\n",
    "In case of input data being supplied to the question, it should be assumed to be a console input."
   ]
  },
  {
   "cell_type": "code",
   "execution_count": 8,
   "metadata": {},
   "outputs": [
    {
     "name": "stdout",
     "output_type": "stream",
     "text": [
      "[2000, 2004, 2006, 2008, 2010]\n"
     ]
    }
   ],
   "source": [
    "given_numbers = 2000,2001,2003,2004,2005,2006,2008,2009,2010#list(input().split())\n",
    "output_numbers = []\n",
    "for item in given_numbers:\n",
    "    if int(item)%2==0:\n",
    "        output_numbers.append(item)\n",
    "\n",
    "print(output_numbers)\n",
    "\n"
   ]
  },
  {
   "cell_type": "markdown",
   "metadata": {},
   "source": [
    "## Question13:\n",
    "Write a program that accepts a sentence and calculate the number of letters and digits.\n",
    "Suppose the following input is supplied to the program:\n",
    "hello world! 123\n",
    "Then, the output should be:\n",
    "LETTERS 10\n",
    "DIGITS 3"
   ]
  },
  {
   "cell_type": "code",
   "execution_count": 15,
   "metadata": {},
   "outputs": [
    {
     "name": "stdout",
     "output_type": "stream",
     "text": [
      "apple 123\n",
      "numbers:3, alpabets:5\n"
     ]
    }
   ],
   "source": [
    "input_str = input()\n",
    "num =0\n",
    "alpha =0\n",
    "for el in input_str:\n",
    "    if el.isdigit():\n",
    "        num+=1\n",
    "    elif el.isalpha():\n",
    "        alpha+=1\n",
    "    else:\n",
    "        pass\n",
    "print(input_str)\n",
    "print(f\"numbers:{num}, alpabets:{alpha}\")\n"
   ]
  },
  {
   "cell_type": "markdown",
   "metadata": {},
   "source": [
    "## Question13:\n",
    "Write a program that accepts a sentence and calculate the number of upper case letters and lower case letters.\n",
    "Suppose the following input is supplied to the program:\n",
    "Hello world!\n",
    "Then, the output should be:\n",
    "UPPER CASE 1\n",
    "LOWER CASE 9"
   ]
  },
  {
   "cell_type": "code",
   "execution_count": 19,
   "metadata": {},
   "outputs": [
    {
     "name": "stdout",
     "output_type": "stream",
     "text": [
      "Upper:2\n",
      "Lower:8\n"
     ]
    }
   ],
   "source": [
    "accepted = input()\n",
    "upp = 0\n",
    "low = 0\n",
    "for item in accepted:\n",
    "    if item.isupper():\n",
    "        upp+=1\n",
    "    elif item.islower():\n",
    "        low+=1\n",
    "    else:\n",
    "        pass\n",
    "\n",
    "print(f'Upper:{upp}\\nLower:{low}')"
   ]
  },
  {
   "cell_type": "markdown",
   "metadata": {},
   "source": [
    "## Question14:\n",
    "Write a program that computes the value of a+aa+aaa+aaaa with a given digit as the value of a.\n",
    "Suppose the following input is supplied to the program:\n",
    "9\n",
    "Then, the output should be:\n",
    "11106\n",
    "\n",
    "Hints:\n",
    "In case of input data being supplied to the question, it should be assumed to be a console input."
   ]
  },
  {
   "cell_type": "code",
   "execution_count": 27,
   "metadata": {},
   "outputs": [
    {
     "name": "stdout",
     "output_type": "stream",
     "text": [
      "3702\n"
     ]
    }
   ],
   "source": [
    "h = input(\"enter any number\")\n",
    "n1 = int('%s' % h)\n",
    "n2 = int('%s%s'%( h,h))\n",
    "n3 = int('%s%s%s'%( h,h,h))\n",
    "n4 = int('%s%s%s%s'%( h,h,h,h))\n",
    "print(n1+n2+n3+n4)"
   ]
  },
  {
   "cell_type": "markdown",
   "metadata": {},
   "source": [
    "Question 16\n",
    "Level 2\n",
    "\n",
    "Question:\n",
    "Use a list comprehension to square each odd number in a list. The list is input by a sequence of comma-separated numbers.\n",
    "Suppose the following input is supplied to the program:\n",
    "1,2,3,4,5,6,7,8,9\n",
    "Then, the output should be:\n",
    "1,3,5,7,9\n",
    "\n",
    "Hints:\n",
    "In case of input data being supplied to the question, it should be assumed to be a console input.\n"
   ]
  },
  {
   "cell_type": "code",
   "execution_count": 42,
   "metadata": {},
   "outputs": [
    {
     "name": "stdout",
     "output_type": "stream",
     "text": [
      "['1', '3', '5']\n"
     ]
    }
   ],
   "source": [
    "gin = input()\n",
    "results2 = [x for x in gin.split(',') if int(x)%2!=0]\n",
    "print(results2)"
   ]
  },
  {
   "cell_type": "markdown",
   "metadata": {},
   "source": [
    "## Question 17\n",
    "Level 2\n",
    "\n",
    "Question:\n",
    "Write a program that computes the net amount of a bank account based a transaction log from console input. The transaction log format is shown as following:\n",
    "D 100\n",
    "W 200\n",
    "\n",
    "D means deposit while W means withdrawal.\n",
    "Suppose the following input is supplied to the program:\n",
    "D 300\n",
    "D 300\n",
    "W 200\n",
    "D 100\n",
    "Then, the output should be:\n",
    "500"
   ]
  },
  {
   "cell_type": "code",
   "execution_count": 47,
   "metadata": {},
   "outputs": [
    {
     "name": "stdout",
     "output_type": "stream",
     "text": [
      "400\n"
     ]
    }
   ],
   "source": [
    "netAmount = 0\n",
    "while True:\n",
    "    s = input('enter amount')\n",
    "    if not s:\n",
    "        break \n",
    "    values = s.split(' ')\n",
    "    operation = values[0]\n",
    "    amount = values[1]\n",
    "\n",
    "    if operation.lower() ==\"d\":\n",
    "        netAmount+= int(amount)\n",
    "    elif operation.lower()=='w':\n",
    "        netAmount-= int(amount)\n",
    "    else:\n",
    "        pass \n",
    "\n",
    "print(netAmount)"
   ]
  },
  {
   "cell_type": "markdown",
   "metadata": {},
   "source": [
    "### Question17\n",
    " logest palidromic word from given string. for eg. acbbabbef, ans-: bbabb"
   ]
  },
  {
   "cell_type": "code",
   "execution_count": 55,
   "metadata": {},
   "outputs": [
    {
     "data": {
      "text/plain": [
       "'abba'"
      ]
     },
     "execution_count": 55,
     "metadata": {},
     "output_type": "execute_result"
    }
   ],
   "source": [
    "def longestPalindrome(s):\n",
    "    \n",
    "    # helper method to check palindrome\n",
    "    def validPalindrome(s):\n",
    "        return s == s[::-1]\n",
    "    \n",
    "    #edge cases\n",
    "    if s == None:\n",
    "        return \n",
    "    if len(s) == 1:\n",
    "        return s[0]\n",
    "    \n",
    "    ret = \"\"\n",
    "    pos = 0\n",
    "    \n",
    "    # iterate each index of s\n",
    "    while pos < len(s)-len(ret):\n",
    "        for i in range(len(s)-1, pos, -1):\n",
    "            if s[i] == s[pos]: \n",
    "                if validPalindrome(s[pos:i+1]):\n",
    "                    if i-pos+1 > len(ret):\n",
    "                        ret = s[pos:i+1]\n",
    "                    break\n",
    "        pos += 1\n",
    "    \n",
    "    # for edge case of \"ab\"\n",
    "    if ret == \"\":\n",
    "        return s[0]\n",
    "    \n",
    "    return ret \n",
    "longestPalindrome('aabba')\n",
    "\n",
    "        "
   ]
  },
  {
   "cell_type": "markdown",
   "metadata": {},
   "source": [
    "## Question 18\n",
    "Level 3\n",
    "\n",
    "Question:\n",
    "A website requires the users to input username and password to register. Write a program to check the validity of password input by users.\n",
    "Following are the criteria for checking the password:\n",
    "1. At least 1 letter between [a-z]\n",
    "2. At least 1 number between [0-9]\n",
    "1. At least 1 letter between [A-Z]\n",
    "3. At least 1 character from [$#@]\n",
    "4. Minimum length of transaction password: 6\n",
    "5. Maximum length of transaction password: 12\n",
    "Your program should accept a sequence of comma separated passwords and will check them according to the above criteria. Passwords that match the criteria are to be printed, each separated by a comma.\n",
    "Example\n",
    "If the following passwords are given as input to the program:\n",
    "ABd1234@1,a F1#,2w3E*,2We3345\n",
    "Then, the output of the program should be:\n",
    "ABd1234@1\n",
    "\n",
    "Hints:\n",
    "In case of input data being supplied to the question, it should be assumed to be a console input.\n"
   ]
  },
  {
   "cell_type": "code",
   "execution_count": null,
   "metadata": {},
   "outputs": [],
   "source": []
  },
  {
   "cell_type": "code",
   "execution_count": 4,
   "metadata": {},
   "outputs": [
    {
     "name": "stdout",
     "output_type": "stream",
     "text": [
      "password must be length of 6-12 character.\n"
     ]
    }
   ],
   "source": [
    "import re \n",
    "value = []\n",
    "# items = [x for x in input().split(',')]\n",
    "items = input(\"enter password\")\n",
    "if len(items)>6 and len(items)<12:\n",
    "    for p in items:\n",
    "        if re.search(\"[a-z]\",p):\n",
    "            # print(f'{p} found')\n",
    "            pass\n",
    "        elif re.search(\"[A-Z]\",p):\n",
    "            print(f'{p} found')\n",
    "        elif not re.search(\"[0-9]\",p):\n",
    "            value.append(p)\n",
    "        elif  not re.search(\"[$#@_!]\",p):\n",
    "            value.append(p)\n",
    "        else:\n",
    "            f=1\n",
    "            print(\"Password must contain at least 1: cap letter, small letter, special char('@#$_!) and digit.\")\n",
    "        \n",
    "else:\n",
    "    print(\"password must be length of 6-12 character.\")\n",
    "# print(value)\n"
   ]
  },
  {
   "cell_type": "code",
   "execution_count": 8,
   "metadata": {},
   "outputs": [
    {
     "name": "stdout",
     "output_type": "stream",
     "text": [
      "ae ad ad\n"
     ]
    }
   ],
   "source": [
    "# gin = input()\n",
    "a,b,c = [input() for x in range(3)]\n",
    "print(a,b,c)\n"
   ]
  }
 ],
 "metadata": {
  "kernelspec": {
   "display_name": "Python 3.10.4 64-bit",
   "language": "python",
   "name": "python3"
  },
  "language_info": {
   "codemirror_mode": {
    "name": "ipython",
    "version": 3
   },
   "file_extension": ".py",
   "mimetype": "text/x-python",
   "name": "python",
   "nbconvert_exporter": "python",
   "pygments_lexer": "ipython3",
   "version": "3.10.5"
  },
  "orig_nbformat": 4,
  "vscode": {
   "interpreter": {
    "hash": "916dbcbb3f70747c44a77c7bcd40155683ae19c65e1c03b4aa3499c5328201f1"
   }
  }
 },
 "nbformat": 4,
 "nbformat_minor": 2
}
