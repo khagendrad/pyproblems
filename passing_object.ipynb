{
 "cells": [
  {
   "cell_type": "code",
   "execution_count": 6,
   "metadata": {},
   "outputs": [
    {
     "name": "stdout",
     "output_type": "stream",
     "text": [
      "Hello Ankita ma'am\n",
      "Nitesh\n"
     ]
    }
   ],
   "source": [
    "class Customer:\n",
    "    def __init__(self,name,gender):\n",
    "        self.name = name\n",
    "        self.gender = gender \n",
    "def greet(customer):\n",
    "    if customer.gender == 'Male':\n",
    "        print(f'Hello {customer.name} sir')\n",
    "    else:\n",
    "        print(f'Hello {customer.name} ma\\'am')\n",
    "\n",
    "    cust2 =Customer('Nitesh','Male')\n",
    "    return cust2 #returning object\n",
    "cust = Customer('Ankita','Female') #creating obejct cust.\n",
    "new_cust = greet(cust) # passing cust object to greet function.\n",
    "print(new_cust.name) # getting name from return object cust2."
   ]
  },
  {
   "cell_type": "markdown",
   "metadata": {},
   "source": [
    "objects of class are also mutable like list,dict,sets."
   ]
  },
  {
   "cell_type": "code",
   "execution_count": 9,
   "metadata": {},
   "outputs": [
    {
     "name": "stdout",
     "output_type": "stream",
     "text": [
      "140246210792000\n",
      "[1, 2, 3]\n",
      "140246509386432\n",
      "140246509386432\n",
      "[1, 2, 3]\n"
     ]
    }
   ],
   "source": [
    "def change(l):\n",
    "    print(id(l))\n",
    "    l.append(5)\n",
    "    print(id(l))\n",
    "\n",
    "l1 = [1,2,3]\n",
    "print(id(l1))\n",
    "print(l1)\n",
    "change(l1[:]) # do not send original list, instead send coloning list.\n",
    "print(l1)\n"
   ]
  },
  {
   "cell_type": "code",
   "execution_count": 13,
   "metadata": {},
   "outputs": [
    {
     "name": "stdout",
     "output_type": "stream",
     "text": [
      "I am Nitish and I am 24\n",
      "I am Ankita and I am 45\n",
      "I am Neha and I am 24\n"
     ]
    }
   ],
   "source": [
    "class Seller:\n",
    "    def __init__(self, name, age):\n",
    "        self.name = name \n",
    "        self.age = age \n",
    "    def intro(self):\n",
    "        print(\"I am\", self.name,\"and I am\", self.age)\n",
    "c1 = Seller(\"Nitish\",24)\n",
    "c2 = Seller('Ankita', 45)\n",
    "c3= Seller('Neha',24)\n",
    "\n",
    "l = [c1,c2,c3]\n",
    "for i in l:\n",
    "    i.intro()\n",
    "\n"
   ]
  },
  {
   "cell_type": "markdown",
   "metadata": {},
   "source": [
    "static variable/class variable \n",
    "--> variables just after class\n",
    "\n",
    "instance variable\n",
    "--> after magic method.(__init__)"
   ]
  },
  {
   "cell_type": "code",
   "execution_count": 19,
   "metadata": {},
   "outputs": [
    {
     "name": "stdout",
     "output_type": "stream",
     "text": [
      "Karnali\n"
     ]
    }
   ],
   "source": [
    "#Aggregation\n",
    "class Customers:\n",
    "    def __init__(self, name,gender,address):\n",
    "        self.name = name \n",
    "        self.gender = gender \n",
    "        self.address = address\n",
    "    def edit_profile(self, new_name, new_city, new_pin, new_state):\n",
    "        self.name = new_name \n",
    "        self.address.change_address(new_city, new_pin, new_state)\n",
    "class Address:\n",
    "    def __init__(self, city, pincode, state):\n",
    "        self.city = city\n",
    "        self.pincode = pincode \n",
    "        self.state = state\n",
    "    \n",
    "    def change_address(self, new_city, new_pin, new_state):\n",
    "        self.city = new_city\n",
    "        self.pincode = new_pin\n",
    "        self.state = new_state\n",
    "\n",
    "add = Address('Kathmandu',1234,'Bagmati')\n",
    "cust = Customers('Khangedra', 'Male', add)\n",
    "cust.edit_profile('Ram','Surkhet',3456,'Karnali')\n",
    "# print(cust.address.state)"
   ]
  }
 ],
 "metadata": {
  "kernelspec": {
   "display_name": "Python 3.10.5 64-bit",
   "language": "python",
   "name": "python3"
  },
  "language_info": {
   "codemirror_mode": {
    "name": "ipython",
    "version": 3
   },
   "file_extension": ".py",
   "mimetype": "text/x-python",
   "name": "python",
   "nbconvert_exporter": "python",
   "pygments_lexer": "ipython3",
   "version": "3.10.5"
  },
  "orig_nbformat": 4,
  "vscode": {
   "interpreter": {
    "hash": "916dbcbb3f70747c44a77c7bcd40155683ae19c65e1c03b4aa3499c5328201f1"
   }
  }
 },
 "nbformat": 4,
 "nbformat_minor": 2
}
