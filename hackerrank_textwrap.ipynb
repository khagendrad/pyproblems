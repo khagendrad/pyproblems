{
 "cells": [
  {
   "cell_type": "markdown",
   "metadata": {},
   "source": [
    "## testwrap\n",
    "You are given a string  and width .\n",
    "Your task is to wrap the string into a paragraph of width .\n",
    "\n",
    "Function Description\n",
    "\n",
    "Complete the wrap function in the editor below.\n",
    "\n",
    "wrap has the following parameters:\n",
    "\n",
    "string string: a long string\n",
    "int max_width: the width to wrap to\n",
    "Returns\n",
    "\n",
    "string: a single string with newline characters ('\\n') where the breaks should be\n",
    "Input Format\n",
    "\n",
    "The first line contains a string, .\n",
    "The second line contains the width, .\n",
    "\n",
    "Sample Input \n",
    "\n",
    "ABCDEFGHIJKLIMNOQRSTUVWXYZ\n",
    "4\n",
    "Sample Output \n",
    "\n",
    "ABCD <br>\n",
    "EFGH<br>\n",
    "IJKL<br>\n",
    "IMNO<br>\n",
    "QRST<br>\n",
    "UVWX<br>\n",
    "YZ"
   ]
  },
  {
   "cell_type": "code",
   "execution_count": null,
   "metadata": {},
   "outputs": [],
   "source": [
    "import textwrap\n",
    "def wrap(string, max_width):\n",
    "    output = ''\n",
    "    c=0\n",
    "    for letter in string:\n",
    "        if c!=max_width:\n",
    "            output+=letter\n",
    "            c+=1\n",
    "        else:\n",
    "            c = 1\n",
    "            output+='\\n'+letter\n",
    "            \n",
    "            \n",
    "    return output\n",
    "\n",
    "if __name__ == '__main__':\n",
    "    string, max_width = input(), int(input())\n",
    "    result = wrap(string, max_width)\n",
    "    print(result)"
   ]
  },
  {
   "cell_type": "markdown",
   "metadata": {},
   "source": [
    "## Design doormat\n",
    "Mr. Vincent works in a door mat manufacturing company. One day, he designed a new door mat with the following specifications:\n",
    "\n",
    "Mat size must be X. ( is an odd natural number, and  is  times .)\n",
    "The design should have 'WELCOME' written in the center.\n",
    "The design pattern should only use |, . and - characters.\n",
    "Sample Designs\n",
    "\n",
    "    Size: 7 x 21 \n",
    "    ---------.|.---------\n",
    "    ------.|..|..|.------\n",
    "    ---.|..|..|..|..|.---\n",
    "    -------WELCOME-------\n",
    "    ---.|..|..|..|..|.---\n",
    "    ------.|..|..|.------\n",
    "    ---------.|.---------\n",
    "    \n",
    "    Size: 11 x 33\n",
    "    ---------------.|.---------------\n",
    "    ------------.|..|..|.------------\n",
    "    ---------.|..|..|..|..|.---------\n",
    "    ------.|..|..|..|..|..|..|.------\n",
    "    ---.|..|..|..|..|..|..|..|..|.---\n",
    "    -------------WELCOME-------------\n",
    "    ---.|..|..|..|..|..|..|..|..|.---\n",
    "    ------.|..|..|..|..|..|..|.------\n",
    "    ---------.|..|..|..|..|.---------\n",
    "    ------------.|..|..|.------------\n",
    "    ---------------.|.---------------\n",
    "Input Format\n",
    "\n",
    "A single line containing the space separated values of  and .\n",
    "\n",
    "Constraints\n",
    "\n",
    "Output Format\n",
    "\n",
    "Output the design pattern.\n",
    "\n",
    "Sample Input\n",
    "\n",
    "9 27\n",
    "Sample Output\n",
    "\n",
    "------------.|.------------\n",
    "---------.|..|..|.---------\n",
    "------.|..|..|..|..|.------\n",
    "---.|..|..|..|..|..|..|.---\n",
    "----------WELCOME----------\n",
    "---.|..|..|..|..|..|..|.---\n",
    "------.|..|..|..|..|.------\n",
    "---------.|..|..|.---------\n",
    "------------.|.------------\n"
   ]
  },
  {
   "cell_type": "code",
   "execution_count": null,
   "metadata": {},
   "outputs": [],
   "source": [
    "r,c =map(int,input().split(' '))\n",
    "\n",
    "for i in range(1,r,2):\n",
    "    print((\".|.\"*i).center(c,'-'))\n",
    "print(\"WELCOME\".center(c,'-'))\n",
    "\n",
    "for i in range(r-2,-1,-2):\n",
    "    print((\".|.\"*i).center(c,'-'))\n"
   ]
  },
  {
   "cell_type": "markdown",
   "metadata": {},
   "source": [
    "## Number Conversion \n",
    "Given an integer, , print the following values for each integer  from  to :\n",
    "\n",
    "Decimal\n",
    "Octal\n",
    "Hexadecimal (capitalized)\n",
    "Binary\n",
    "Function Description\n",
    "\n",
    "Complete the print_formatted function in the editor below.\n",
    "\n",
    "print_formatted has the following parameters:\n",
    "\n",
    "int number: the maximum value to print\n",
    "Prints\n",
    "\n",
    "The four values must be printed on a single line in the order specified above for each  from  to . Each value should be space-padded to match the width of the binary value of  and the values should be separated by a single space.\n",
    "\n",
    "Input Format\n",
    "\n",
    "A single integer denoting .\n",
    "\n",
    "Constraints\n",
    "\n",
    "Sample Input\n",
    "\n",
    "17\n",
    "Sample Output\n",
    "\n",
    "    1     1     1     1\n",
    "    2     2     2    10\n",
    "    3     3     3    11\n",
    "    4     4     4   100\n",
    "    5     5     5   101\n",
    "    6     6     6   110\n",
    "    7     7     7   111\n",
    "    8    10     8  1000\n",
    "    9    11     9  1001\n",
    "   10    12     A  1010\n",
    "   11    13     B  1011\n",
    "   12    14     C  1100\n",
    "   13    15     D  1101\n",
    "   14    16     E  1110\n",
    "   15    17     F  1111\n",
    "   16    20    10 10000\n",
    "   17    21    11 10001\n",
    "\n"
   ]
  },
  {
   "cell_type": "code",
   "execution_count": null,
   "metadata": {},
   "outputs": [],
   "source": [
    "def octal(i):\n",
    "    oct =''\n",
    "    while True:\n",
    "        if i!=0:\n",
    "            rem = i%8\n",
    "            oct+=str(rem)\n",
    "            i = i//8\n",
    "        else:\n",
    "            break\n",
    "    return oct[::-1]\n",
    "\n"
   ]
  },
  {
   "cell_type": "code",
   "execution_count": null,
   "metadata": {},
   "outputs": [],
   "source": [
    "def binary(i):\n",
    "    bin=''\n",
    "    while True:\n",
    "        if i!=0:\n",
    "            rem = i%2\n",
    "            bin+=str(rem)\n",
    "            i = i//2\n",
    "        else:\n",
    "            break\n",
    "    return bin[::-1]"
   ]
  },
  {
   "cell_type": "code",
   "execution_count": null,
   "metadata": {},
   "outputs": [],
   "source": [
    "def hexa(i):\n",
    "    hex=''\n",
    "    hex_val = {\n",
    "        '10':'A',\n",
    "        '11':'B',\n",
    "        '12':'C',\n",
    "        '13':'D',\n",
    "        '14':'E',\n",
    "        '15':'F'\n",
    "    }\n",
    "    while True:\n",
    "        if i!=0:\n",
    "            rem = i%16\n",
    "            if rem<10:\n",
    "                hex+=str(rem)\n",
    "            else:\n",
    "                hex+=hex_val[str(rem)]\n",
    "            i = i//16\n",
    "        else:\n",
    "            break\n",
    "    return hex[::-1]\n"
   ]
  },
  {
   "cell_type": "code",
   "execution_count": null,
   "metadata": {},
   "outputs": [],
   "source": [
    "n = 17\n",
    "for i in range(1,n+1):\n",
    "    print(f'{i}  {octal(i)}  {hexa(i)}  {binary(i)}')"
   ]
  },
  {
   "cell_type": "code",
   "execution_count": null,
   "metadata": {},
   "outputs": [],
   "source": [
    "def formated_print(number):\n",
    "    l = len(\"{0:b}\".format(number))\n",
    "    for i in range(1,number+1):\n",
    "        print(\"{0:{w}d} {0:{w}o} {0:{w}X} {0:{w}b}\".format(i,w=l))\n",
    "formated_print(17)"
   ]
  },
  {
   "cell_type": "code",
   "execution_count": null,
   "metadata": {},
   "outputs": [],
   "source": [
    "from itertools import combinations\n",
    "s, k = input().split(\" \")\n",
    "for i in range(1, int(k)+1):\n",
    "    for j in list(combinations(sorted(s),int(i))):\n",
    "        print(''.join(j))\n"
   ]
  },
  {
   "cell_type": "markdown",
   "metadata": {},
   "source": [
    "collections.Counter()\n",
    "A counter is a container that stores elements as dictionary keys, and their counts are stored as dictionary values.\n",
    "\n",
    "Sample Code\n",
    "\n",
    ">>> from collections import Counter\n",
    ">>> \n",
    ">>> myList = [1,1,2,3,4,5,3,2,3,4,2,1,2,3]\n",
    ">>> print Counter(myList)\n",
    "Counter({2: 4, 3: 4, 1: 3, 4: 2, 5: 1})\n",
    ">>>\n",
    ">>> print Counter(myList).items()\n",
    "[(1, 3), (2, 4), (3, 4), (4, 2), (5, 1)]\n",
    ">>> \n",
    ">>> print Counter(myList).keys()\n",
    "[1, 2, 3, 4, 5]\n",
    ">>> \n",
    ">>> print Counter(myList).values()\n",
    "[3, 4, 4, 2, 1]\n",
    "Task\n",
    "\n",
    " is a shoe shop owner. His shop has  number of shoes.\n",
    "He has a list containing the size of each shoe he has in his shop.\n",
    "There are  number of customers who are willing to pay  amount of money only if they get the shoe of their desired size.\n",
    "\n",
    "Your task is to compute how much money  earned.\n",
    "\n",
    "Input Format\n",
    "\n",
    "The first line contains , the number of shoes.\n",
    "The second line contains the space separated list of all the shoe sizes in the shop.\n",
    "The third line contains , the number of customers.\n",
    "The next  lines contain the space separated values of the  desired by the customer and , the price of the shoe.\n",
    "\n",
    "Constraints\n",
    "\n",
    "\n",
    "\n",
    "\n",
    "\n",
    "Output Format\n",
    "\n",
    "Print the amount of money earned by .\n",
    "\n",
    "Sample Input\n",
    "\n",
    "10\n",
    "2 3 4 5 6 8 7 6 5 18\n",
    "6\n",
    "6 55\n",
    "6 45\n",
    "6 55\n",
    "4 40\n",
    "18 60\n",
    "10 50\n",
    "Sample Output\n",
    "\n",
    "200\n",
    "Explanation\n",
    "\n",
    "Customer 1: Purchased size 6 shoe for $55.\n",
    "Customer 2: Purchased size 6 shoe for $45.\n",
    "Customer 3: Size 6 no longer available, so no purchase.\n",
    "Customer 4: Purchased size 4 shoe for $40.\n",
    "Customer 5: Purchased size 18 shoe for $60.\n",
    "Customer 6: Size 10 not available, so no purchase.\n",
    "\n",
    "Total money earned =  55+45+40+60=200"
   ]
  },
  {
   "cell_type": "code",
   "execution_count": null,
   "metadata": {},
   "outputs": [],
   "source": [
    "from collections import Counter\n",
    "n = int(input())\n",
    "stock = list(map(int, input().split(\" \")))\n",
    "\n",
    "x = int(input())\n",
    "dictio = Counter(stock)\n",
    "\n",
    "\n",
    "total = 0\n",
    "for i in range(x):\n",
    "    size,price = map(int, input().split(\" \"))\n",
    "    if dictio[size]:\n",
    "        dictio[size]-=1\n",
    "    total+=price\n",
    "print(total)\n"
   ]
  },
  {
   "cell_type": "code",
   "execution_count": null,
   "metadata": {},
   "outputs": [],
   "source": [
    "#minions game\n",
    "string='BANANA'\n",
    "s = len(string)\n",
    "con,vow = 0,0\n",
    "\n",
    "for i in range(s):\n",
    "    if string[i] in 'AEIOU':\n",
    "        vow +=(s-i)\n",
    "    else:\n",
    "        con+=(s-i)\n",
    "if con>vow:\n",
    "    print(\"Stuart\", con)\n",
    "elif con==vow:\n",
    "    print(\"Draw\")\n",
    "else:\n",
    "    print('Kevin', vow)\n"
   ]
  },
  {
   "cell_type": "code",
   "execution_count": null,
   "metadata": {},
   "outputs": [],
   "source": [
    "#alphabet rangoli\n",
    "n=10\n",
    "for i in range(n):\n",
    "    s = \"-\".join(chr(ord('a')+n-j-1) for j in range(i+1))\n",
    "    print((s+s[::-1][1:]).center(n*4-3,'-'))\n",
    "\n",
    "for i in range(n-1):\n",
    "    s = \"-\".join(chr(ord('a')+n-j-1) for j in range(n-i-1))\n",
    "    print((s+s[::-1][1:]).center(n*4-3, '-'))\n"
   ]
  },
  {
   "cell_type": "code",
   "execution_count": null,
   "metadata": {},
   "outputs": [],
   "source": [
    "c = 0\n",
    "s = ''\n",
    "for i in string:\n",
    "    if i not in s and c!=k:\n",
    "        s+=i\n",
    "    c+=1\n",
    "    if c==k:\n",
    "        print(s)\n",
    "        c = 0\n",
    "        s=''\n"
   ]
  },
  {
   "cell_type": "code",
   "execution_count": null,
   "metadata": {},
   "outputs": [],
   "source": [
    "import re \n",
    "v = 'aeiou'\n",
    "c = 'qwrtypadfghjklzxcvbnm'\n",
    "\n",
    "m = re.findall(r\"(?<=[%s])([%s]{2,})[%s]\"%(c,v,c),input(), flags=re.I)\n",
    "print('\\n'.join(m or ['-1']))"
   ]
  },
  {
   "cell_type": "code",
   "execution_count": null,
   "metadata": {},
   "outputs": [],
   "source": [
    "import re \n",
    "\n",
    "string = input()\n",
    "substring = input()\n",
    "\n",
    "pattern = re.compile(substring)\n",
    "\n",
    "match = pattern.search(string)\n",
    "if not match:\n",
    "    print(\"(-1, -1)\")\n",
    "while match:\n",
    "    print(\"({}, {})\".format(match.start(), match.end()-1))\n",
    "    match = pattern.search(string, match.start()+1)"
   ]
  },
  {
   "cell_type": "code",
   "execution_count": null,
   "metadata": {},
   "outputs": [],
   "source": [
    "import re \n",
    "for i in range(int(input())):\n",
    "    print(re.sub(r'(?<= )\\|\\|(?= )', \"or\", re.sub(r'(?<= )&&(?= )',\"and\",input())))\n"
   ]
  },
  {
   "cell_type": "code",
   "execution_count": null,
   "metadata": {},
   "outputs": [],
   "source": []
  },
  {
   "cell_type": "code",
   "execution_count": 35,
   "metadata": {},
   "outputs": [
    {
     "name": "stdout",
     "output_type": "stream",
     "text": [
      "True\n"
     ]
    }
   ],
   "source": [
    "#validating roman numeral \n",
    "thousands = 'M{0,3}' #matches anything like M, MM, MMM\n",
    "hundreds = '(CM|CD|D?C{0,3})' #matches anything like C, CC, CCC, CD, D DC, etc and CM(900)\n",
    "tens  = '(XC|XL|L?X{0,3})' #individual roman numberals digts \n",
    "digits= '(IX|IV|V?I{0,3})'\n",
    "\n",
    "regex_pattern= r'%s%s%s%s$' % (thousands, hundreds, tens, digits)\n",
    "import re \n",
    "print(str(bool(re.match(regex_pattern, input()))))"
   ]
  },
  {
   "cell_type": "code",
   "execution_count": null,
   "metadata": {},
   "outputs": [],
   "source": [
    "# phone number validation \n",
    "import re \n",
    "def phone_number_validation():\n",
    "    n = int(input())\n",
    "    pattern = \"^[789]\"\n",
    "    for i in range(n):\n",
    "        number = input()\n",
    "        if len(number) == 10 and number.isdigit():\n",
    "            ans = re.findall(pattern, number)\n",
    "            if len(ans)==1:\n",
    "                print(\"YES\")\n",
    "            else:\n",
    "                print(\"NO\")\n",
    "        else:\n",
    "            print(\"NO\")\n",
    "phone_number_validation()"
   ]
  },
  {
   "cell_type": "code",
   "execution_count": 44,
   "metadata": {},
   "outputs": [],
   "source": [
    "# Email validation \n",
    "import re \n",
    "n = int(input())\n",
    "for i in range(n):\n",
    "    line = input()\n",
    "    name, email = line.split(\" \")#map(str, input().split(\" \"))\n",
    "    pattern = '<[a-z][a-zA-Z0-9\\-\\.\\_]+@[a-zA-Z]+\\.[a-zA-Z]{1,3}>'\n",
    "    if bool(re.match(pattern,email)):\n",
    "        print(name, email)"
   ]
  },
  {
   "cell_type": "code",
   "execution_count": null,
   "metadata": {},
   "outputs": [],
   "source": [
    "# hex color code\n",
    "import re\n",
    "\n",
    "in_css = False\n",
    "n = int(input())\n",
    "for _ in range(n):\n",
    "    line = input()\n",
    "    if '{' in line:\n",
    "        in_css = True\n",
    "    elif '}' in line:\n",
    "        in_css=False\n",
    "    elif in_css:\n",
    "        for color in re.findall('#[0-9a-fA-F]{3,6}', line):\n",
    "            print(color)\n"
   ]
  },
  {
   "cell_type": "code",
   "execution_count": null,
   "metadata": {},
   "outputs": [],
   "source": []
  },
  {
   "cell_type": "code",
   "execution_count": null,
   "metadata": {},
   "outputs": [],
   "source": [
    "#html parser\n",
    "from html.parser import HTMLParser\n",
    "\n",
    "#defining cutom class by inheriting from HTMLparser\n",
    "class AHTMLParser(HTMLParser):\n",
    "    def handle_starting(self, tag, attrs):\n",
    "        print(\"Start:\", tag)\n",
    "        for attr in attrs:\n",
    "            print('_>','>'.join(map(str, attr)))\n",
    "    \n",
    "    # overriding handle_endtag with our requirement.\n",
    "    def handle_endtag(self, tag):\n",
    "        print(\"end :\",tag)\n",
    "    \n",
    "\n",
    "    # overriding handle_startendingtag with our requirement\n",
    "    def hadle_startendtag(self, tag, attrs):\n",
    "        print(\"empty: \", tag)\n",
    "        for attr in attrs:\n",
    "            print('->','>'.join(map(str, attr)))\n",
    "#gettig all the lines \n",
    "html = ''\n",
    "for i in range(int(input())):\n",
    "    html += input()\n",
    "#defining the parser and executing \n",
    "parser  = HTMLParser()\n",
    "parser.feed(html)\n",
    "parser.close()\n",
    "\n"
   ]
  },
  {
   "cell_type": "code",
   "execution_count": null,
   "metadata": {},
   "outputs": [],
   "source": [
    "#polar coordinates \n",
    "import cmath\n",
    "c = complex(input().strip())\n",
    "\n",
    "x =(cmath.polar(c))\n",
    "print(x[0])\n",
    "print(x[1])\n"
   ]
  },
  {
   "cell_type": "code",
   "execution_count": 3,
   "metadata": {},
   "outputs": [
    {
     "name": "stdout",
     "output_type": "stream",
     "text": [
      "45°\n"
     ]
    }
   ],
   "source": [
    "import math \n",
    "a = int(input())\n",
    "b = int(input())\n",
    "m = math.sqrt(a**2+b**2)\n",
    "theta = math.acos(b/m)\n",
    "print(str(round(math.degrees(theta)))+u\"\\N{degree sign}\")"
   ]
  },
  {
   "cell_type": "code",
   "execution_count": 5,
   "metadata": {},
   "outputs": [
    {
     "name": "stdout",
     "output_type": "stream",
     "text": [
      "1\n",
      "121\n",
      "12321\n",
      "1234321\n",
      "123454321\n",
      "12345654321\n",
      "1234567654321\n",
      "123456787654321\n"
     ]
    }
   ],
   "source": [
    "for i in range(1, int(input())+1):\n",
    "    print(((10**i-1)//9)**2)"
   ]
  },
  {
   "cell_type": "code",
   "execution_count": null,
   "metadata": {},
   "outputs": [],
   "source": [
    "#polynomials \n",
    "import numpy as np \n",
    "arr =np.array(list(map(float, input().split())))\n",
    "x = int(input())\n",
    "print(np.polyval(arr, x))"
   ]
  },
  {
   "cell_type": "code",
   "execution_count": null,
   "metadata": {},
   "outputs": [],
   "source": [
    "#leaner albebra\n",
    "n = int(input())\n",
    "a = np.array([input().split() for _ in range(n)], float)\n",
    "np.set_printoptions(legacy='1.13')\n",
    "print(np.linalg.det(a))"
   ]
  },
  {
   "cell_type": "code",
   "execution_count": null,
   "metadata": {},
   "outputs": [],
   "source": [
    "# default dict\n",
    "from collections import defaultdict\n",
    "n, m = map(int, input().split())\n",
    "d = defaultdict(list)\n",
    "\n",
    "for i in range(n):\n",
    "    s = input().rstrip()\n",
    "    d[s].append(i+1)\n",
    "\n",
    "for i in range(m):\n",
    "    s = input().rstrip()\n",
    "    if s in d:\n",
    "        print(' '.join(map(str,(d[s]))))\n",
    "    else:\n",
    "        print(-1)\n"
   ]
  },
  {
   "cell_type": "code",
   "execution_count": null,
   "metadata": {},
   "outputs": [],
   "source": [
    "import collections, statistics\n",
    "print('%.2f'% statistics.mean(next((int(student(*row).MARKS)for row in (input().split() for i in range(size)))for size , student in [[int(input()), collections.namedtuple(\"Student\", input())]])))"
   ]
  },
  {
   "cell_type": "code",
   "execution_count": 1,
   "metadata": {},
   "outputs": [
    {
     "name": "stdout",
     "output_type": "stream",
     "text": [
      "SATURDAY\n"
     ]
    }
   ],
   "source": [
    "import calendar\n",
    "wkdays= [\"MONDAY\",\"TUESDAY\",\"WEDNESDAY\",\"THURSDAY\",\"FRIDAY\",\"SATURDAY\",\"SUNDAY\"]\n",
    "m,d,y = map(int, input().split())\n",
    "a = calendar.weekday(y,m,d)\n",
    "print(wkdays[a])"
   ]
  }
 ],
 "metadata": {
  "kernelspec": {
   "display_name": "Python 3.10.5 64-bit",
   "language": "python",
   "name": "python3"
  },
  "language_info": {
   "codemirror_mode": {
    "name": "ipython",
    "version": 3
   },
   "file_extension": ".py",
   "mimetype": "text/x-python",
   "name": "python",
   "nbconvert_exporter": "python",
   "pygments_lexer": "ipython3",
   "version": "3.10.5"
  },
  "orig_nbformat": 4,
  "vscode": {
   "interpreter": {
    "hash": "916dbcbb3f70747c44a77c7bcd40155683ae19c65e1c03b4aa3499c5328201f1"
   }
  }
 },
 "nbformat": 4,
 "nbformat_minor": 2
}
