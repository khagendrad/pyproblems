{
 "cells": [
  {
   "cell_type": "markdown",
   "metadata": {},
   "source": [
    "## Longest common Prefix amongst words\n",
    "Write a function to find the longest common prefix string amongst an array of strings.\n",
    "\n",
    "If there is no common prefix, return an empty string \"\".\n",
    "\n",
    " \n",
    "\n",
    "Example 1:\n",
    "\n",
    "Input: strs = [\"flower\",\"flow\",\"flight\"]\n",
    "Output: \"fl\"\n",
    "Example 2:\n",
    "\n",
    "Input: strs = [\"dog\",\"racecar\",\"car\"]\n",
    "Output: \"\"\n",
    "Explanation: There is no common prefix among the input strings."
   ]
  },
  {
   "cell_type": "code",
   "execution_count": 11,
   "metadata": {},
   "outputs": [
    {
     "name": "stdout",
     "output_type": "stream",
     "text": [
      "['read', 'ready ', 'realistic', 'rel']\n",
      "re\n"
     ]
    }
   ],
   "source": [
    "strs = ['ready ','read','rel','realistic']\n",
    "size=len(strs)\n",
    "strs.sort()\n",
    "m_len = min(len(strs[0]),len(strs[size-1]))\n",
    "i=0\n",
    "while (i< m_len and strs[0][i]== strs[size-1][i]):\n",
    "    i+=1\n",
    "\n",
    "prefix = strs[0][:i]\n",
    "\n",
    "print(prefix)\n"
   ]
  },
  {
   "cell_type": "code",
   "execution_count": 17,
   "metadata": {},
   "outputs": [
    {
     "data": {
      "text/plain": [
       "'wor'"
      ]
     },
     "execution_count": 17,
     "metadata": {},
     "output_type": "execute_result"
    }
   ],
   "source": [
    "class Solution(object):\n",
    "    def longestCommonPrefix(self, strs):\n",
    "        \"\"\"\n",
    "        :type strs: List[str]\n",
    "        :rtype: str\n",
    "        \"\"\"\n",
    "        size=len(strs)\n",
    "        strs.sort()\n",
    "        m_len = min(len(strs[0]),len(strs[size-1]))\n",
    "        i=0\n",
    "        while (i< m_len and strs[0][i]== strs[size-1][i]):\n",
    "            i+=1\n",
    "\n",
    "        prefix = strs[0][:i]\n",
    "        return prefix\n",
    "pre = Solution()\n",
    "# strs = input('enter words').split()\n",
    "pre.longestCommonPrefix(input('enter words').split())"
   ]
  }
 ],
 "metadata": {
  "kernelspec": {
   "display_name": "Python 3.10.5 64-bit",
   "language": "python",
   "name": "python3"
  },
  "language_info": {
   "codemirror_mode": {
    "name": "ipython",
    "version": 3
   },
   "file_extension": ".py",
   "mimetype": "text/x-python",
   "name": "python",
   "nbconvert_exporter": "python",
   "pygments_lexer": "ipython3",
   "version": "3.10.5"
  },
  "orig_nbformat": 4,
  "vscode": {
   "interpreter": {
    "hash": "916dbcbb3f70747c44a77c7bcd40155683ae19c65e1c03b4aa3499c5328201f1"
   }
  }
 },
 "nbformat": 4,
 "nbformat_minor": 2
}
