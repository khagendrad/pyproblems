{
        "cells": [
                {
                        "cell_type": "markdown",
                        "metadata": {},
                        "source": []
                },
                {
                        "cell_type": "code",
                        "execution_count": 12,
                        "metadata": {},
                        "outputs": [
                                {
                                        "data": {
                                                "text/plain": [
                                                        "2.5"
                                                ]
                                        },
                                        "execution_count": 12,
                                        "metadata": {},
                                        "output_type": "execute_result"
                                }
                        ],
                        "source": [
                                "class Solution:\n",
                                "    def findmedian(self, nums1:list[int], nums2:list[int])-> float:\n",
                                "        a,b = nums1, nums2\n",
                                "        total = len(nums1)+len(nums2)\n",
                                "        half = total//2\n",
                                "\n",
                                "        if len(b) < len(a):\n",
                                "            a,b=b,a\n",
                                "\n",
                                "        l, r = 0, len(a)-1\n",
                                "        while True:\n",
                                "            i = (l+r)//2 #a\n",
                                "            j = half -i -2 #b\n",
                                "\n",
                                "            a_left =a[i] if i>=0 else float(\"-infinity\")\n",
                                "            a_right = a[i+1] if (i+1) <len(a) else float(\"infinity\")\n",
                                "\n",
                                "            b_left = b[j] if j>=0 else float(\"-infinity\")\n",
                                "            b_right = b[j+1] if (j+1)<len(b)else float(\"infinity\")\n",
                                "\n",
                                "            if a_left <= b_right and b_left <= a_right:\n",
                                "                if total%2:\n",
                                "                    return min(a_right, b_right)\n",
                                "                return (max(a_left, b_left)+ min(a_right, b_right))/2\n",
                                "            elif a_left > b_right:\n",
                                "                r=i-1\n",
                                "            else:\n",
                                "                l = i+1\n",
                                "\n",
                                "fm = Solution()\n",
                                "fm.findmedian([1,2],[3,4])\n"
                        ]
                },
                {
                        "cell_type": "code",
                        "execution_count": 1,
                        "metadata": {},
                        "outputs": [
                                {
                                        "data": {
                                                "text/plain": [
                                                        "2.5"
                                                ]
                                        },
                                        "execution_count": 1,
                                        "metadata": {},
                                        "output_type": "execute_result"
                                }
                        ],
                        "source": [
                                "def findMedianSortedArrays(self, nums1: list[int], nums2: list[int]) -> float:\n",
                                "    nums1.extend(nums2)\n",
                                "    nums1.sort()\n",
                                "    if len(nums1)%2==1:\n",
                                "        return nums1[len(nums1)//2]\n",
                                "    else:\n",
                                "        return (nums1[len(nums1)//2-1]+nums1[len(nums1)//2])/2\n",
                                "findMedianSortedArrays(0,[1,2],[3,4])"
                        ]
                }
        ],
        "metadata": {
                "kernelspec": {
                        "display_name": "Python 3.10.5 64-bit",
                        "language": "python",
                        "name": "python3"
                },
                "language_info": {
                        "codemirror_mode": {
                                "name": "ipython",
                                "version": 3
                        },
                        "file_extension": ".py",
                        "mimetype": "text/x-python",
                        "name": "python",
                        "nbconvert_exporter": "python",
                        "pygments_lexer": "ipython3",
                        "version": "3.10.5"
                },
                "orig_nbformat": 4,
                "vscode": {
                        "interpreter": {
                                "hash": "916dbcbb3f70747c44a77c7bcd40155683ae19c65e1c03b4aa3499c5328201f1"
                        }
                }
        },
        "nbformat": 4,
        "nbformat_minor": 2
}
